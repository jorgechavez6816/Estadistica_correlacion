{
 "cells": [
  {
   "cell_type": "code",
   "execution_count": null,
   "metadata": {},
   "outputs": [],
   "source": [
    "#Procedimiento para crear resultado de correlación\n",
    "import win32com.client as win32ComClient\n",
    "\n",
    "if __name__ == \"__main__\":\n",
    "    try:\n",
    "        dbName = \"Tabladinámica10.IMD\"\n",
    "        idea = win32ComClient.Dispatch(dispatch=\"Idea.IdeaClient\")\n",
    "        db = idea.OpenDatabase(dbName)\n",
    "        task = db.Correlation()\n",
    "        resultName = db.UniqueResultName(\"Correlacion_01\")\n",
    "        task.ResultName = resultName \n",
    "        task.AddFieldForCorrelation(\"COD_PROD_01\")\n",
    "        task.AddFieldForCorrelation(\"COD_PROD_02\")\n",
    "        task.AddFieldForCorrelation(\"COD_PROD_03\")\n",
    "        task.AddFieldForCorrelation(\"COD_PROD_04\")\n",
    "        task.AddFieldForCorrelation(\"COD_PROD_05\")\n",
    "        task.AddFieldForCorrelation(\"COD_PROD_06\")\n",
    "        task.AddFieldForCorrelation(\"TOTAL\")\n",
    "        task.CreateVirtualDatabase = False\n",
    "        task.PerformTask()\n",
    "    finally:\n",
    "        task = None\n",
    "        db = None\n",
    "        idea = None"
   ]
  }
 ],
 "metadata": {
  "kernelspec": {
   "display_name": "Python 3",
   "language": "python",
   "name": "python3"
  },
  "language_info": {
   "codemirror_mode": {
    "name": "ipython",
    "version": 3
   },
   "file_extension": ".py",
   "mimetype": "text/x-python",
   "name": "python",
   "nbconvert_exporter": "python",
   "pygments_lexer": "ipython3",
   "version": "3.7.6"
  }
 },
 "nbformat": 4,
 "nbformat_minor": 4
}
